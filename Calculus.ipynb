{
 "cells": [
  {
   "cell_type": "markdown",
   "id": "559ed2cf",
   "metadata": {},
   "source": [
    "<font size=5>  **Python 基礎應用** </font>\n",
    "\n",
    "<font size=5>  學員：151 陳振偉 </font>"
   ]
  },
  {
   "cell_type": "code",
   "execution_count": 1,
   "id": "386b899f",
   "metadata": {},
   "outputs": [],
   "source": [
    "import tensorflow as tf\n",
    "import numpy as np\n",
    "import matplotlib.pyplot as plt\n",
    "from ipywidgets import interact\n",
    "import pandas as pd\n",
    "import sympy as sp\n",
    "import matplotlib.patches as patches\n",
    "import matplotlib.animation as animation\n",
    "from matplotlib.animation import FuncAnimation, PillowWriter\n",
    "import warnings"
   ]
  },
  {
   "cell_type": "code",
   "execution_count": 2,
   "id": "ea08b80e-5e5b-4f7e-bbf4-94a1ef87030e",
   "metadata": {},
   "outputs": [],
   "source": [
    "x=sp.Symbol('x')"
   ]
  },
  {
   "cell_type": "markdown",
   "id": "c1c32152",
   "metadata": {},
   "source": [
    "<font size=5>  **連續函數** </font>\n",
    "\n",
    "以$A \\subseteq \\mathbb{R}$, $f:A \\rightarrow \\mathbb{R}$，若$f(x)$ 在 $a$ 點為連續，其定義如下:\n",
    "1. $f(a)$ 有定義，即 $\\forall a \\in A$ , $f(a) \\in \\mathbb{R} $ (函數值存在)\n",
    "2. 極限$\\lim_{x \\rightarrow a} f(x)$ 存在，即左極限等於右極限\n",
    "3. 極限值等於函數值，即$\\lim_{x \\rightarrow a} f(x)=f(a)$\n"
   ]
  },
  {
   "cell_type": "code",
   "execution_count": 2,
   "id": "455f95ca",
   "metadata": {},
   "outputs": [
    {
     "data": {
      "image/png": "[encoded data removed]",
      "text/plain": [
       "<Figure size 432x288 with 1 Axes>"
      ]
     },
     "metadata": {
      "needs_background": "light"
     },
     "output_type": "display_data"
    }
   ],
   "source": [
    "def f(x):\n",
    "    return x**2 \n",
    "\n",
    "x = np.linspace(-15,15,100)\n",
    "plt.plot(x, f(x))\n",
    "plt.show()"
   ]
  },
  {
   "cell_type": "code",
   "execution_count": 4,
   "id": "f543e404",
   "metadata": {},
   "outputs": [
    {
     "data": {
      "image/png": "[encoded data removed]",
      "text/plain": [
       "<Figure size 432x288 with 1 Axes>"
      ]
     },
     "metadata": {
      "needs_background": "light"
     },
     "output_type": "display_data"
    }
   ],
   "source": [
    "def relu(x):\n",
    "    return max(0.0, x)\n",
    " \n",
    "\n",
    "series_in = [x for x in range(-10, 11)]\n",
    "series_out = [relu(x) for x in series_in]\n",
    "plt.plot(series_in, series_out)\n",
    "plt.title('ReLU ')\n",
    "plt.show()"
   ]
  },
  {
   "cell_type": "markdown",
   "id": "ca133d76",
   "metadata": {},
   "source": [
    "<font size=5> **不連續函數，以分段函數為例** </font>\n",
    "\n",
    "\\begin{cases}\n",
    "        1 & ,x > 0\\\\\n",
    "        0.5 & , x = 0\\\\\n",
    "        0 & , x<0\n",
    "\\end{cases}"
   ]
  },
  {
   "cell_type": "code",
   "execution_count": 5,
   "id": "6f9d6f94",
   "metadata": {},
   "outputs": [
    {
     "data": {
      "text/plain": [
       "(-0.1, 1.1)"
      ]
     },
     "execution_count": 5,
     "metadata": {},
     "output_type": "execute_result"
    },
    {
     "data": {
      "image/png": "[encoded data removed]",
      "text/plain": [
       "<Figure size 432x288 with 1 Axes>"
      ]
     },
     "metadata": {
      "needs_background": "light"
     },
     "output_type": "display_data"
    }
   ],
   "source": [
    "def g(x): \n",
    "    return 0.5 * (np.sign(x) + 1)\n",
    "\n",
    "x=np.linspace(0,10,100)\n",
    "yl=np.random.rand(50) \n",
    "yr=np.random.rand(50)+100\n",
    "yobs=np.concatenate((yl,yr),axis=0)\n",
    "x_v = sorted(np.concatenate([np.linspace(-5,5,100),[0]])) \n",
    "y_v = g(x_v)\n",
    "plt.plot(x_v,y_v,'ko--')\n",
    "plt.ylim(-0.1,1.1)"
   ]
  },
  {
   "cell_type": "markdown",
   "id": "64854491",
   "metadata": {},
   "source": [
    "<font size=5> **導數** </font>\n",
    "\n",
    "<font size=3> **割線** </font>\n",
    "\n",
    "割線，以過$(x_1,y_1)$為例\n",
    "\n",
    "割線斜率 $$m=\\frac{f(x)-f(x_1)}{x - x_1}$$\n",
    "割線方程式 $y-y_1 = m(x-x_1)$\n",
    "\n",
    "<font size=3> **導數** </font>\n",
    "\n",
    "$f(x)$在$a$點的導數定義如下：\n",
    "$$f^{\\prime}(a)=\\lim_{x\\rightarrow a}\\frac{f(x)-f(a)}{x - a}=\\lim_{h\\rightarrow 0}\\frac{f(a+h)-f(a)}{h}$$\n",
    "\n",
    "切線斜率$f^{\\prime}(a)$\n",
    "\n",
    "切線方程式$y-f(a) = f^{\\prime}(a)(x-a)$"
   ]
  },
  {
   "cell_type": "code",
   "execution_count": 6,
   "id": "b441ae97",
   "metadata": {},
   "outputs": [
    {
     "data": {
      "application/vnd.jupyter.widget-view+json": {
       "model_id": "1d3fbfa831164293a7a06406f84eadc8",
       "version_major": 2,
       "version_minor": 0
      },
      "text/plain": [
       "interactive(children=(FloatSlider(value=8.00005, description='x1', max=15.0, min=1.0001), Output()), _dom_clas…"
      ]
     },
     "metadata": {},
     "output_type": "display_data"
    },
    {
     "data": {
      "text/plain": [
       "<function __main__.h(x1)>"
      ]
     },
     "execution_count": 6,
     "metadata": {},
     "output_type": "execute_result"
    }
   ],
   "source": [
    "x = np.linspace(-15,15,100)\n",
    "\n",
    "def h(x1):\n",
    "  y1 = f(x1)\n",
    "  x2 = 1\n",
    "  xrange = np.linspace(x2-2, x1+8, 10)\n",
    "  def line_m(x2, x1):\n",
    "        return ((f(x1)-f(x2))/(x1-x2))*(xrange - x2) + f(x2)\n",
    "\n",
    "  plt.figure()\n",
    "  plt.plot(x, f(x))\n",
    "  plt.scatter(x1, y1, color='C1', s=50)\n",
    "  plt.scatter(x2, f(x2), color='C1', s=50)\n",
    "  plt.plot(xrange, line_m(x2, x1), 'C1--', linewidth = 2)\n",
    "\n",
    "interact_plot = interact(h ,x1 = (1.0001,15.),step =100)\n",
    "interact_plot"
   ]
  },
  {
   "cell_type": "code",
   "execution_count": 3,
   "id": "5b6b879e",
   "metadata": {},
   "outputs": [
    {
     "data": {
      "application/vnd.jupyter.widget-view+json": {
       "model_id": "76a5cb623ff4479193c3221db7bbf730",
       "version_major": 2,
       "version_minor": 0
      },
      "text/plain": [
       "interactive(children=(IntSlider(value=0, description='x3', max=10, min=-10), Output()), _dom_classes=('widget-…"
      ]
     },
     "metadata": {},
     "output_type": "display_data"
    },
    {
     "data": {
      "text/plain": [
       "<function __main__.h(x3)>"
      ]
     },
     "execution_count": 3,
     "metadata": {},
     "output_type": "execute_result"
    }
   ],
   "source": [
    "def slope(x): \n",
    "    return 2*x\n",
    "\n",
    "x = np.linspace(-10,10,100)\n",
    "\n",
    "def h(x3):\n",
    "  y3 = f(x3)\n",
    "  def line(x, x3, y3):\n",
    "      return slope(x3)*(x - x3) + y3\n",
    "\n",
    "  # Define x data range for tangent line\n",
    "  xrange = np.linspace(x3-5, x3+5, 10)\n",
    "\n",
    "  # Plot the figure\n",
    "  plt.figure(1)\n",
    "  plt.plot(1,2,1)\n",
    "  plt.plot(x, f(x))\n",
    "  plt.scatter(x3, y3, color='C1', s=50)\n",
    "  plt.plot(xrange, line(xrange, x3, y3), 'C1--', linewidth = 2)\n",
    "\n",
    "interact_plot = interact(h ,x3 = (-10,10),step =100)\n",
    "interact_plot"
   ]
  },
  {
   "cell_type": "code",
   "execution_count": 8,
   "id": "0ed59ada",
   "metadata": {},
   "outputs": [
    {
     "data": {
      "image/png": "[encoded data removed]",
      "text/plain": [
       "<Figure size 432x288 with 1 Axes>"
      ]
     },
     "metadata": {
      "needs_background": "light"
     },
     "output_type": "display_data"
    }
   ],
   "source": [
    "x = np.linspace(-15,15,100)\n",
    "plt.plot(x, np.abs(x))\n",
    "plt.show()"
   ]
  },
  {
   "cell_type": "markdown",
   "id": "afe68129",
   "metadata": {},
   "source": [
    "可微分$\\Rightarrow$ 連續函數 $\\Rightarrow$ 極限存在\n",
    "\n",
    "以$|x|$為例，連續但不可微，$\\lim\\limits_{x \\to {{\\rm{0}}^ + }} \\left| x \\right| = \\lim\\limits_{x \\to {{\\rm{0}}^ - }} \\left| x \\right| =|0|= 0$\n",
    "\n",
    "但$\\lim\\limits_{x \\to {{\\rm{0}}^ + }} \\frac{|x|-0}{x-0} =1$ $\\neq$ $\\lim\\limits_{x \\to {{\\rm{0}}^ - }} \\frac{|x|-0}{x-0} =-1$"
   ]
  },
  {
   "cell_type": "markdown",
   "id": "d127768d",
   "metadata": {},
   "source": [
    "<font size=3> **積分** </font>\n",
    "\n",
    "$$\\int_a^b f(x)dx = \\lim_{x \\rightarrow \\infty} \\sum_{i=1}^n f(\\alpha_i) \\Delta x_i,\\ 其中 \\alpha_i \\in [x_{i-1}, x_i],\\ \\Delta x_i=x_i - x_{i-1}$$"
   ]
  },
  {
   "cell_type": "code",
   "execution_count": 4,
   "id": "16d494d6",
   "metadata": {},
   "outputs": [
    {
     "data": {
      "application/vnd.jupyter.widget-view+json": {
       "model_id": "11aaffdc176b4844bc6e10bd6868ab4b",
       "version_major": 2,
       "version_minor": 0
      },
      "text/plain": [
       "interactive(children=(IntSlider(value=41, description='Ni', max=80, min=3), Output()), _dom_classes=('widget-i…"
      ]
     },
     "metadata": {},
     "output_type": "display_data"
    },
    {
     "data": {
      "text/plain": [
       "<function __main__.N(Ni)>"
      ]
     },
     "execution_count": 4,
     "metadata": {},
     "output_type": "execute_result"
    }
   ],
   "source": [
    "def N(Ni):\n",
    "    a = -5; b = 5;\n",
    "    n = 10 \n",
    "\n",
    "    x = np.linspace(a,b,Ni+1)\n",
    "    y = f(x)\n",
    "\n",
    "    X = np.linspace(a,b,n*Ni+1)\n",
    "    Y = f(X)\n",
    "\n",
    "    plt.figure(figsize=(15,5))\n",
    "\n",
    "    plt.plot(1,2,2)\n",
    "    plt.plot(X,Y,'b')\n",
    "    x_left = x[:-1] \n",
    "    y_left = y[:-1]\n",
    "    plt.plot(x_left,y_left,'b.',markersize=10)\n",
    "    plt.bar(x_left,y_left,width=(b-a)/Ni,alpha=0.2,align='edge',edgecolor='b')\n",
    "    plt.title('Left Riemann Sum, N = {}'.format(Ni))\n",
    "\n",
    "    plt.plot(1,2,2)\n",
    "    plt.plot(X,Y,'r')\n",
    "    x_right = x[1:] \n",
    "    y_right = y[1:]\n",
    "    plt.plot(x_right,y_right,'r.',markersize=10)\n",
    "    plt.bar(x_right,y_right,width=-(b-a)/Ni,alpha=0.2,align='edge',edgecolor='r')\n",
    "    plt.title('Right Riemann Sum, N = {}'.format(Ni))\n",
    "\n",
    "    plt.show()\n",
    "int_plot = interact(N ,Ni = (3,80),step =100)\n",
    "int_plot"
   ]
  },
  {
   "cell_type": "code",
   "execution_count": 10,
   "id": "09d10dfd",
   "metadata": {},
   "outputs": [
    {
     "data": {
      "image/png": "[encoded data removed]",
      "text/plain": [
       "<Figure size 432x288 with 1 Axes>"
      ]
     },
     "metadata": {
      "needs_background": "light"
     },
     "output_type": "display_data"
    }
   ],
   "source": [
    "x = np.arange(-10,10,0.1)\n",
    "\n",
    "plt.plot(x,f(x),'k-')\n",
    "plt.fill_between(x, f(x), color='#539ecd')\n",
    "plt.show()"
   ]
  },
  {
   "cell_type": "code",
   "execution_count": 33,
   "id": "6c30101d",
   "metadata": {},
   "outputs": [
    {
     "data": {
      "image/png": "[encoded data removed]",
      "text/plain": [
       "<Figure size 720x360 with 1 Axes>"
      ]
     },
     "metadata": {
      "needs_background": "light"
     },
     "output_type": "display_data"
    }
   ],
   "source": [
    "def g(x):\n",
    "    return x**2 \n",
    "a1=-5\n",
    "b1=5\n",
    "n = 10 \n",
    "N=10\n",
    "\n",
    "x = np.linspace(a1,b1,N+1)\n",
    "y = g(x)\n",
    "\n",
    "plt.figure(figsize=(10,5))\n",
    "\n",
    "for i in range(0,N+1):\n",
    "    if g(x[i-1]) < g(x[i]):\n",
    "        xm = x[i]\n",
    "        ym = g(xm)\n",
    "        plt.plot(x,y,'b') \n",
    "        plt.plot(xm,ym,'b.',markersize=10)\n",
    "        plt.bar(xm,ym,width=,alpha=0.2)\n",
    "    elif g(x[i-1]) >= g(x[i]):\n",
    "        xm = x[i-1]\n",
    "        ym = g(xm)\n",
    "        plt.plot(x,y,'b') \n",
    "        plt.plot(xm,ym,'b.',markersize=10)\n",
    "        plt.bar(xm,ym,width=(b1-a1)/N,alpha=0.2,align='edge',edgecolor='b') \n",
    "    else:\n",
    "        print('哭')\n",
    "    \n",
    "plt.show()"
   ]
  },
  {
   "cell_type": "code",
   "execution_count": null,
   "id": "909ac8de",
   "metadata": {},
   "outputs": [],
   "source": []
  }
 ],
 "metadata": {
  "kernelspec": {
   "display_name": "Python 3 (ipykernel)",
   "language": "python",
   "name": "python3"
  },
  "language_info": {
   "codemirror_mode": {
    "name": "ipython",
    "version": 3
   },
   "file_extension": ".py",
   "mimetype": "text/x-python",
   "name": "python",
   "nbconvert_exporter": "python",
   "pygments_lexer": "ipython3",
   "version": "3.9.12"
  }
 },
 "nbformat": 4,
 "nbformat_minor": 5
}
