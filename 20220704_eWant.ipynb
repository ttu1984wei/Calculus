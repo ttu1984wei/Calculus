{
  "nbformat": 4,
  "nbformat_minor": 0,
  "metadata": {
    "colab": {
      "name": "20220704 eWant.ipynb",
      "provenance": [],
      "authorship_tag": "ABX9TyPStuQGjl439Z1D8EVE0oeE",
      "include_colab_link": true
    },
    "kernelspec": {
      "name": "python3",
      "display_name": "Python 3"
    },
    "language_info": {
      "name": "python"
    },
    "widgets": {
      "application/vnd.jupyter.widget-state+json": {
        "d17fd40eab5148929b372488431bfb03": {
          "model_module": "@jupyter-widgets/controls",
          "model_name": "VBoxModel",
          "model_module_version": "1.5.0",
          "state": {
            "_dom_classes": [
              "widget-interact"
            ],
            "_model_module": "@jupyter-widgets/controls",
            "_model_module_version": "1.5.0",
            "_model_name": "VBoxModel",
            "_view_count": null,
            "_view_module": "@jupyter-widgets/controls",
            "_view_module_version": "1.5.0",
            "_view_name": "VBoxView",
            "box_style": "",
            "children": [
              "IPY_MODEL_eae8512bf9cd4a98aebcf0ce9d949c47",
              "IPY_MODEL_464f5a3b54564e54928257b4f88acf2f"
            ],
            "layout": "IPY_MODEL_4540db0cb21f42158507f54810e2a609"
          }
        },
        "eae8512bf9cd4a98aebcf0ce9d949c47": {
          "model_module": "@jupyter-widgets/controls",
          "model_name": "IntSliderModel",
          "model_module_version": "1.5.0",
          "state": {
            "_dom_classes": [],
            "_model_module": "@jupyter-widgets/controls",
            "_model_module_version": "1.5.0",
            "_model_name": "IntSliderModel",
            "_view_count": null,
            "_view_module": "@jupyter-widgets/controls",
            "_view_module_version": "1.5.0",
            "_view_name": "IntSliderView",
            "continuous_update": true,
            "description": "Ni",
            "description_tooltip": null,
            "disabled": false,
            "layout": "IPY_MODEL_448dda08352841e3b8741615ee9a9a9b",
            "max": 100,
            "min": 3,
            "orientation": "horizontal",
            "readout": true,
            "readout_format": "d",
            "step": 1,
            "style": "IPY_MODEL_4460cf61c33047d38f461b16608b0d74",
            "value": 24
          }
        },
        "464f5a3b54564e54928257b4f88acf2f": {
          "model_module": "@jupyter-widgets/output",
          "model_name": "OutputModel",
          "model_module_version": "1.0.0",
          "state": {
            "_dom_classes": [],
            "_model_module": "@jupyter-widgets/output",
            "_model_module_version": "1.0.0",
            "_model_name": "OutputModel",
            "_view_count": null,
            "_view_module": "@jupyter-widgets/output",
            "_view_module_version": "1.0.0",
            "_view_name": "OutputView",
            "layout": "IPY_MODEL_5735e7cc1c344447a6ae10dda95dbff5",
            "msg_id": "",
            "outputs": [
              {
                "output_type": "display_data",
                "data": {
                  "text/plain": "<Figure size 1440x360 with 1 Axes>",
                  "image/png": "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\n"
                },
                "metadata": {
                  "needs_background": "light"
                }
              }
            ]
          }
        },
        "4540db0cb21f42158507f54810e2a609": {
          "model_module": "@jupyter-widgets/base",
          "model_name": "LayoutModel",
          "model_module_version": "1.2.0",
          "state": {
            "_model_module": "@jupyter-widgets/base",
            "_model_module_version": "1.2.0",
            "_model_name": "LayoutModel",
            "_view_count": null,
            "_view_module": "@jupyter-widgets/base",
            "_view_module_version": "1.2.0",
            "_view_name": "LayoutView",
            "align_content": null,
            "align_items": null,
            "align_self": null,
            "border": null,
            "bottom": null,
            "display": null,
            "flex": null,
            "flex_flow": null,
            "grid_area": null,
            "grid_auto_columns": null,
            "grid_auto_flow": null,
            "grid_auto_rows": null,
            "grid_column": null,
            "grid_gap": null,
            "grid_row": null,
            "grid_template_areas": null,
            "grid_template_columns": null,
            "grid_template_rows": null,
            "height": null,
            "justify_content": null,
            "justify_items": null,
            "left": null,
            "margin": null,
            "max_height": null,
            "max_width": null,
            "min_height": null,
            "min_width": null,
            "object_fit": null,
            "object_position": null,
            "order": null,
            "overflow": null,
            "overflow_x": null,
            "overflow_y": null,
            "padding": null,
            "right": null,
            "top": null,
            "visibility": null,
            "width": null
          }
        },
        "448dda08352841e3b8741615ee9a9a9b": {
          "model_module": "@jupyter-widgets/base",
          "model_name": "LayoutModel",
          "model_module_version": "1.2.0",
          "state": {
            "_model_module": "@jupyter-widgets/base",
            "_model_module_version": "1.2.0",
            "_model_name": "LayoutModel",
            "_view_count": null,
            "_view_module": "@jupyter-widgets/base",
            "_view_module_version": "1.2.0",
            "_view_name": "LayoutView",
            "align_content": null,
            "align_items": null,
            "align_self": null,
            "border": null,
            "bottom": null,
            "display": null,
            "flex": null,
            "flex_flow": null,
            "grid_area": null,
            "grid_auto_columns": null,
            "grid_auto_flow": null,
            "grid_auto_rows": null,
            "grid_column": null,
            "grid_gap": null,
            "grid_row": null,
            "grid_template_areas": null,
            "grid_template_columns": null,
            "grid_template_rows": null,
            "height": null,
            "justify_content": null,
            "justify_items": null,
            "left": null,
            "margin": null,
            "max_height": null,
            "max_width": null,
            "min_height": null,
            "min_width": null,
            "object_fit": null,
            "object_position": null,
            "order": null,
            "overflow": null,
            "overflow_x": null,
            "overflow_y": null,
            "padding": null,
            "right": null,
            "top": null,
            "visibility": null,
            "width": null
          }
        },
        "4460cf61c33047d38f461b16608b0d74": {
          "model_module": "@jupyter-widgets/controls",
          "model_name": "SliderStyleModel",
          "model_module_version": "1.5.0",
          "state": {
            "_model_module": "@jupyter-widgets/controls",
            "_model_module_version": "1.5.0",
            "_model_name": "SliderStyleModel",
            "_view_count": null,
            "_view_module": "@jupyter-widgets/base",
            "_view_module_version": "1.2.0",
            "_view_name": "StyleView",
            "description_width": "",
            "handle_color": null
          }
        },
        "5735e7cc1c344447a6ae10dda95dbff5": {
          "model_module": "@jupyter-widgets/base",
          "model_name": "LayoutModel",
          "model_module_version": "1.2.0",
          "state": {
            "_model_module": "@jupyter-widgets/base",
            "_model_module_version": "1.2.0",
            "_model_name": "LayoutModel",
            "_view_count": null,
            "_view_module": "@jupyter-widgets/base",
            "_view_module_version": "1.2.0",
            "_view_name": "LayoutView",
            "align_content": null,
            "align_items": null,
            "align_self": null,
            "border": null,
            "bottom": null,
            "display": null,
            "flex": null,
            "flex_flow": null,
            "grid_area": null,
            "grid_auto_columns": null,
            "grid_auto_flow": null,
            "grid_auto_rows": null,
            "grid_column": null,
            "grid_gap": null,
            "grid_row": null,
            "grid_template_areas": null,
            "grid_template_columns": null,
            "grid_template_rows": null,
            "height": null,
            "justify_content": null,
            "justify_items": null,
            "left": null,
            "margin": null,
            "max_height": null,
            "max_width": null,
            "min_height": null,
            "min_width": null,
            "object_fit": null,
            "object_position": null,
            "order": null,
            "overflow": null,
            "overflow_x": null,
            "overflow_y": null,
            "padding": null,
            "right": null,
            "top": null,
            "visibility": null,
            "width": null
          }
        },
        "006f2eaf9aa0453fa48a0ecf6d0db3dc": {
          "model_module": "@jupyter-widgets/controls",
          "model_name": "VBoxModel",
          "model_module_version": "1.5.0",
          "state": {
            "_dom_classes": [
              "widget-interact"
            ],
            "_model_module": "@jupyter-widgets/controls",
            "_model_module_version": "1.5.0",
            "_model_name": "VBoxModel",
            "_view_count": null,
            "_view_module": "@jupyter-widgets/controls",
            "_view_module_version": "1.5.0",
            "_view_name": "VBoxView",
            "box_style": "",
            "children": [
              "IPY_MODEL_af45dda3ae674ee197816eddf542ea8a",
              "IPY_MODEL_9fc34897f1e04c32b85122b066e825bb"
            ],
            "layout": "IPY_MODEL_794036814e6c4f5489ac62e956549e07"
          }
        },
        "af45dda3ae674ee197816eddf542ea8a": {
          "model_module": "@jupyter-widgets/controls",
          "model_name": "FloatSliderModel",
          "model_module_version": "1.5.0",
          "state": {
            "_dom_classes": [],
            "_model_module": "@jupyter-widgets/controls",
            "_model_module_version": "1.5.0",
            "_model_name": "FloatSliderModel",
            "_view_count": null,
            "_view_module": "@jupyter-widgets/controls",
            "_view_module_version": "1.5.0",
            "_view_name": "FloatSliderView",
            "continuous_update": true,
            "description": "K5",
            "description_tooltip": null,
            "disabled": false,
            "layout": "IPY_MODEL_18bc6c41c5d1488690d087b148079a32",
            "max": 6000,
            "min": 4000,
            "orientation": "horizontal",
            "readout": true,
            "readout_format": ".2f",
            "step": 0.1,
            "style": "IPY_MODEL_90d300c311d541d98e4273a849859a8a",
            "value": 4000
          }
        },
        "9fc34897f1e04c32b85122b066e825bb": {
          "model_module": "@jupyter-widgets/output",
          "model_name": "OutputModel",
          "model_module_version": "1.0.0",
          "state": {
            "_dom_classes": [],
            "_model_module": "@jupyter-widgets/output",
            "_model_module_version": "1.0.0",
            "_model_name": "OutputModel",
            "_view_count": null,
            "_view_module": "@jupyter-widgets/output",
            "_view_module_version": "1.0.0",
            "_view_name": "OutputView",
            "layout": "IPY_MODEL_ecb82dd4f6074c8cb6cb7f6460b96353",
            "msg_id": "",
            "outputs": [
              {
                "output_type": "display_data",
                "data": {
                  "text/plain": "<Figure size 432x288 with 1 Axes>",
                  "image/png": "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\n"
                },
                "metadata": {
                  "needs_background": "light"
                }
              }
            ]
          }
        },
        "794036814e6c4f5489ac62e956549e07": {
          "model_module": "@jupyter-widgets/base",
          "model_name": "LayoutModel",
          "model_module_version": "1.2.0",
          "state": {
            "_model_module": "@jupyter-widgets/base",
            "_model_module_version": "1.2.0",
            "_model_name": "LayoutModel",
            "_view_count": null,
            "_view_module": "@jupyter-widgets/base",
            "_view_module_version": "1.2.0",
            "_view_name": "LayoutView",
            "align_content": null,
            "align_items": null,
            "align_self": null,
            "border": null,
            "bottom": null,
            "display": null,
            "flex": null,
            "flex_flow": null,
            "grid_area": null,
            "grid_auto_columns": null,
            "grid_auto_flow": null,
            "grid_auto_rows": null,
            "grid_column": null,
            "grid_gap": null,
            "grid_row": null,
            "grid_template_areas": null,
            "grid_template_columns": null,
            "grid_template_rows": null,
            "height": null,
            "justify_content": null,
            "justify_items": null,
            "left": null,
            "margin": null,
            "max_height": null,
            "max_width": null,
            "min_height": null,
            "min_width": null,
            "object_fit": null,
            "object_position": null,
            "order": null,
            "overflow": null,
            "overflow_x": null,
            "overflow_y": null,
            "padding": null,
            "right": null,
            "top": null,
            "visibility": null,
            "width": null
          }
        },
        "18bc6c41c5d1488690d087b148079a32": {
          "model_module": "@jupyter-widgets/base",
          "model_name": "LayoutModel",
          "model_module_version": "1.2.0",
          "state": {
            "_model_module": "@jupyter-widgets/base",
            "_model_module_version": "1.2.0",
            "_model_name": "LayoutModel",
            "_view_count": null,
            "_view_module": "@jupyter-widgets/base",
            "_view_module_version": "1.2.0",
            "_view_name": "LayoutView",
            "align_content": null,
            "align_items": null,
            "align_self": null,
            "border": null,
            "bottom": null,
            "display": null,
            "flex": null,
            "flex_flow": null,
            "grid_area": null,
            "grid_auto_columns": null,
            "grid_auto_flow": null,
            "grid_auto_rows": null,
            "grid_column": null,
            "grid_gap": null,
            "grid_row": null,
            "grid_template_areas": null,
            "grid_template_columns": null,
            "grid_template_rows": null,
            "height": null,
            "justify_content": null,
            "justify_items": null,
            "left": null,
            "margin": null,
            "max_height": null,
            "max_width": null,
            "min_height": null,
            "min_width": null,
            "object_fit": null,
            "object_position": null,
            "order": null,
            "overflow": null,
            "overflow_x": null,
            "overflow_y": null,
            "padding": null,
            "right": null,
            "top": null,
            "visibility": null,
            "width": null
          }
        },
        "90d300c311d541d98e4273a849859a8a": {
          "model_module": "@jupyter-widgets/controls",
          "model_name": "SliderStyleModel",
          "model_module_version": "1.5.0",
          "state": {
            "_model_module": "@jupyter-widgets/controls",
            "_model_module_version": "1.5.0",
            "_model_name": "SliderStyleModel",
            "_view_count": null,
            "_view_module": "@jupyter-widgets/base",
            "_view_module_version": "1.2.0",
            "_view_name": "StyleView",
            "description_width": "",
            "handle_color": null
          }
        },
        "ecb82dd4f6074c8cb6cb7f6460b96353": {
          "model_module": "@jupyter-widgets/base",
          "model_name": "LayoutModel",
          "model_module_version": "1.2.0",
          "state": {
            "_model_module": "@jupyter-widgets/base",
            "_model_module_version": "1.2.0",
            "_model_name": "LayoutModel",
            "_view_count": null,
            "_view_module": "@jupyter-widgets/base",
            "_view_module_version": "1.2.0",
            "_view_name": "LayoutView",
            "align_content": null,
            "align_items": null,
            "align_self": null,
            "border": null,
            "bottom": null,
            "display": null,
            "flex": null,
            "flex_flow": null,
            "grid_area": null,
            "grid_auto_columns": null,
            "grid_auto_flow": null,
            "grid_auto_rows": null,
            "grid_column": null,
            "grid_gap": null,
            "grid_row": null,
            "grid_template_areas": null,
            "grid_template_columns": null,
            "grid_template_rows": null,
            "height": null,
            "justify_content": null,
            "justify_items": null,
            "left": null,
            "margin": null,
            "max_height": null,
            "max_width": null,
            "min_height": null,
            "min_width": null,
            "object_fit": null,
            "object_position": null,
            "order": null,
            "overflow": null,
            "overflow_x": null,
            "overflow_y": null,
            "padding": null,
            "right": null,
            "top": null,
            "visibility": null,
            "width": null
          }
        }
      }
    }
  },
  "cells": [
    {
      "cell_type": "markdown",
      "metadata": {
        "id": "view-in-github",
        "colab_type": "text"
      },
      "source": [
        "<a href=\"https://colab.research.google.com/github/ttu1984wei/Calculus/blob/main/20220704_eWant.ipynb\" target=\"_parent\"><img src=\"https://colab.research.google.com/assets/colab-badge.svg\" alt=\"Open In Colab\"/></a>"
      ]
    },
    {
      "cell_type": "code",
      "execution_count": null,
      "metadata": {
        "id": "R-MMmP19_rBI"
      },
      "outputs": [],
      "source": [
        "%matplotlib inline\n",
        "\n",
        "import numpy as np\n",
        "import matplotlib.pyplot as plt\n",
        "from ipywidgets import interact\n",
        "import pandas as pd"
      ]
    },
    {
      "cell_type": "markdown",
      "source": [
        "###普朗克黑體輻射函數\n",
        "\n",
        "$$ u(\\lambda ,T)={\\frac {8 \\pi h c}{\\lambda ^{5}}}\\left(e^{\\frac {hc}{\\lambda K_B T}}-1\\right)^{-1}$$\n",
        "其中$\\lambda$波長、$T$黑體溫度、 $h$普朗克常數、 $c$光速、 $K_B$波茲曼常數"
      ],
      "metadata": {
        "id": "MYn7EW3REaSW"
      }
    },
    {
      "cell_type": "code",
      "source": [
        "def f(x):\n",
        "    KB = 1.38*10**(-23)\n",
        "    c = 3*10**8\n",
        "    h = 6.626*10**(-34)\n",
        "    N = 4000\n",
        "    Li = (100 + 2400*x/N)*10**(-9)\n",
        "    T = 4000\n",
        "    return (8 *  np.pi *h * c)/(Li**5*(np.exp(h*c/(T*Li*KB)) - 1))\n"
      ],
      "metadata": {
        "id": "SSOE9DcPIktX"
      },
      "execution_count": null,
      "outputs": []
    },
    {
      "cell_type": "code",
      "source": [
        "x = np.linspace(0, 6000)\n",
        "plt.plot(x, f(x))\n",
        "plt.show()"
      ],
      "metadata": {
        "colab": {
          "base_uri": "https://localhost:8080/",
          "height": 265
        },
        "id": "n2Qg46IyJxYj",
        "outputId": "97a98a66-887f-44dd-a950-16b824e6a7b3"
      },
      "execution_count": null,
      "outputs": [
        {
          "output_type": "display_data",
          "data": {
            "text/plain": [
              "<Figure size 432x288 with 1 Axes>"
            ],
            "image/png": "[encoded data removed]"
          },
          "metadata": {
            "needs_background": "light"
          }
        }
      ]
    },
    {
      "cell_type": "markdown",
      "source": [
        "以黑體輻射函數為例，了解黎曼和\n",
        "\n",
        "黎曼積分基本公式\n",
        "$$\\int_a^b f(x)dx = \\lim_{x \\rightarrow \\infty} \\sum_{i=1}^n f(\\alpha_i) \\Delta x_i,\\ 其中 \\alpha_i \\in [x_{i-1}, x_i],\\ \\Delta x_i=x_i - x_{i-1}$$\n",
        "\n",
        "這次圖形以上下和方式呈現，藍色代表上和，紅色代表下和"
      ],
      "metadata": {
        "id": "RANyAbfBDlkz"
      }
    },
    {
      "cell_type": "code",
      "source": [
        "def N(Ni):\n",
        "    a1=0\n",
        "    b1=8000\n",
        "    x = np.linspace(a1,b1,Ni+1)\n",
        "    y = f(x)\n",
        "    plt.figure(figsize=(20,5))\n",
        "\n",
        "    #上和\n",
        "    for i in range(0,Ni+1,1):\n",
        "        if f(x[i-1]) < f(x[i]):\n",
        "            xm = x[i]\n",
        "            xc= x[i]-(x[i]-x[i-1])/2\n",
        "            ym = f(xm)\n",
        "            plt.plot(x,y,'b') \n",
        "            plt.plot(xm,ym,'b.',markersize=10)\n",
        "            plt.bar(xc,ym,width=(b1-a1)/Ni,alpha=0.1, color=\"blue\",edgecolor='b')\n",
        "        elif f(x[i-1]) > f(x[i]):\n",
        "            xm = x[i-1]\n",
        "            xc= x[i]-(x[i]-x[i-1])/2\n",
        "            ym = f(xm)\n",
        "            plt.plot(x,y,'b') \n",
        "            plt.plot(xm,ym,'b.',markersize=10)\n",
        "            plt.bar(xc,ym,width=(b1-a1)/Ni,alpha=0.1, color=\"blue\",edgecolor='b')  \n",
        "        else:\n",
        "            print('哭') \n",
        "    #下和             \n",
        "    for j in range(0,Ni+1,1):\n",
        "        if f(x[j-1]) < f(x[j]):\n",
        "            xs = x[j-1]\n",
        "            xc= x[j]-(x[j]-x[j-1])/2\n",
        "            ys = f(xs)\n",
        "            plt.plot(x,y,'r') \n",
        "            plt.plot(xs,ys,'r.',markersize=10)\n",
        "            plt.bar(xc,ys,width=(b1-a1)/Ni,alpha=0.1, color=\"red\",edgecolor='r')\n",
        "        elif f(x[j-1]) > f(x[j]):\n",
        "            xs = x[j-1]\n",
        "            xc= x[j-1]-(x[j]-x[j-1])/2\n",
        "            ys = f(xs)\n",
        "            plt.plot(x,y,'r') \n",
        "            plt.plot(xs,ys,'r.',markersize=10)\n",
        "            plt.bar(xc,ys,width=(b1-a1)/Ni,alpha=0.1, color=\"blue\",edgecolor='b') \n",
        "        else:\n",
        "            print('哭')\n",
        "    plt.title('Upper and Lower Riemann Sum, N = {}'.format(Ni))\n",
        "    plt.show()\n",
        "int_plot = interact(N ,Ni = (3,100),step =1000)\n",
        "int_plot"
      ],
      "metadata": {
        "colab": {
          "base_uri": "https://localhost:8080/",
          "height": 328,
          "referenced_widgets": [
            "d17fd40eab5148929b372488431bfb03",
            "eae8512bf9cd4a98aebcf0ce9d949c47",
            "464f5a3b54564e54928257b4f88acf2f",
            "4540db0cb21f42158507f54810e2a609",
            "448dda08352841e3b8741615ee9a9a9b",
            "4460cf61c33047d38f461b16608b0d74",
            "5735e7cc1c344447a6ae10dda95dbff5"
          ]
        },
        "id": "MFqec_5oKyic",
        "outputId": "78109be3-4de4-4354-f972-0f321d537f12"
      },
      "execution_count": null,
      "outputs": [
        {
          "output_type": "display_data",
          "data": {
            "text/plain": [
              "interactive(children=(IntSlider(value=51, description='Ni', min=3), Output()), _dom_classes=('widget-interact'…"
            ],
            "application/vnd.jupyter.widget-view+json": {
              "version_major": 2,
              "version_minor": 0,
              "model_id": "d17fd40eab5148929b372488431bfb03"
            }
          },
          "metadata": {}
        },
        {
          "output_type": "execute_result",
          "data": {
            "text/plain": [
              "<function __main__.N>"
            ]
          },
          "metadata": {},
          "execution_count": 4
        }
      ]
    },
    {
      "cell_type": "markdown",
      "source": [
        "這圖形代表著普朗克定律描述的黑體輻射在4000K、5000K、6000K溫度下的頻譜"
      ],
      "metadata": {
        "id": "YFD_O4r7GNxw"
      }
    },
    {
      "cell_type": "code",
      "source": [
        "KB = 1.38*10**(-23)\n",
        "c = 3*10**8\n",
        "h = 6.626*10**(-34)\n",
        "N = 4000\n",
        "for i in range(4000, 7000, 1000):\n",
        "    i_lin = np.linspace(0, i)\n",
        "    Ti = i\n",
        "    Li = (100 + 2400*i_lin/N)*10**(-9)\n",
        "    bbr = (8 *  np.pi *h * c)/(Li**5*(np.exp(h*c/(Ti*Li*KB)) - 1))\n",
        "    plt.plot(i_lin, bbr)\n",
        "\n",
        "plt.show()"
      ],
      "metadata": {
        "id": "WVRLsgfz552o",
        "colab": {
          "base_uri": "https://localhost:8080/",
          "height": 276
        },
        "outputId": "574ebb6c-7fb1-4d5b-b260-ff39b79a8e73"
      },
      "execution_count": null,
      "outputs": [
        {
          "output_type": "display_data",
          "data": {
            "text/plain": [
              "<Figure size 432x288 with 1 Axes>"
            ],
            "image/png": "[encoded data removed]"
          },
          "metadata": {
            "needs_background": "light"
          }
        }
      ]
    },
    {
      "cell_type": "markdown",
      "source": [
        "以6000K為基礎線，看不同溫度下的峰值變化"
      ],
      "metadata": {
        "id": "Fioj5hAkP6iV"
      }
    },
    {
      "cell_type": "code",
      "source": [
        "def bbr(K5=0): \n",
        "    i5 = np.linspace(0, 10000, 10000)\n",
        "    i6 = np.linspace(0, 6000)\n",
        "    L5 = (100 + 2400*i5/4000)*10**(-9)\n",
        "    L6 = (100 + 2400*i6/4000)*10**(-9)\n",
        "    f5 = (8 *  np.pi *h * c)/((L5**5) *(np.exp(h*c/(K5*L5*KB)) - 1))\n",
        "    f6 = (8 *  np.pi *h * c)/((L6**5) *(np.exp(h*c/(6000*L6*KB)) - 1))\n",
        "    plt.plot(i5, f5)\n",
        "    plt.plot(i6, f6)\n",
        "    plt.show()\n",
        "\n",
        "interact(bbr, K5=(4000., 6000.))"
      ],
      "metadata": {
        "id": "nIq0lY3QMiL-",
        "colab": {
          "base_uri": "https://localhost:8080/",
          "height": 325,
          "referenced_widgets": [
            "006f2eaf9aa0453fa48a0ecf6d0db3dc",
            "af45dda3ae674ee197816eddf542ea8a",
            "9fc34897f1e04c32b85122b066e825bb",
            "794036814e6c4f5489ac62e956549e07",
            "18bc6c41c5d1488690d087b148079a32",
            "90d300c311d541d98e4273a849859a8a",
            "ecb82dd4f6074c8cb6cb7f6460b96353"
          ]
        },
        "outputId": "cbfbf1ec-813b-42ef-c267-b57c06e9ff5a"
      },
      "execution_count": null,
      "outputs": [
        {
          "output_type": "display_data",
          "data": {
            "text/plain": [
              "interactive(children=(FloatSlider(value=4000.0, description='K5', max=6000.0, min=4000.0), Output()), _dom_cla…"
            ],
            "application/vnd.jupyter.widget-view+json": {
              "version_major": 2,
              "version_minor": 0,
              "model_id": "006f2eaf9aa0453fa48a0ecf6d0db3dc"
            }
          },
          "metadata": {}
        },
        {
          "output_type": "execute_result",
          "data": {
            "text/plain": [
              "<function __main__.bbr>"
            ]
          },
          "metadata": {},
          "execution_count": 6
        }
      ]
    },
    {
      "cell_type": "code",
      "source": [
        ""
      ],
      "metadata": {
        "id": "7MF7dKO2iuEE"
      },
      "execution_count": null,
      "outputs": []
    }
  ]
}